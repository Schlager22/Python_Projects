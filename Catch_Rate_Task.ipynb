{
  "nbformat": 4,
  "nbformat_minor": 0,
  "metadata": {
    "colab": {
      "provenance": [],
      "authorship_tag": "ABX9TyO06Nc2rDs1iAK8ElI3eaEN",
      "include_colab_link": true
    },
    "kernelspec": {
      "name": "python3",
      "display_name": "Python 3"
    },
    "language_info": {
      "name": "python"
    }
  },
  "cells": [
    {
      "cell_type": "markdown",
      "metadata": {
        "id": "view-in-github",
        "colab_type": "text"
      },
      "source": [
        "<a href=\"https://colab.research.google.com/github/Schlager22/Python_Projects/blob/main/Catch_Rate_Task.ipynb\" target=\"_parent\"><img src=\"https://colab.research.google.com/assets/colab-badge.svg\" alt=\"Open In Colab\"/></a>"
      ]
    },
    {
      "cell_type": "code",
      "execution_count": 1,
      "metadata": {
        "colab": {
          "base_uri": "https://localhost:8080/"
        },
        "id": "8QL4uVLbbz6W",
        "outputId": "08311e7a-edd4-468f-b53c-6bf5730ad4f1"
      },
      "outputs": [
        {
          "output_type": "stream",
          "name": "stdout",
          "text": [
            "A.J. Brown has a catch rate of 0.6068965517241379\n",
            "CeeDee Lamb has a catch rate of 0.6858974358974359\n",
            "Justin Jefferson has a catch rate of 0.6956521739130435\n"
          ]
        }
      ],
      "source": [
        "# Catch Rate Task (2022)\n",
        "players = [{\n",
        "   'name': 'A.J. Brown',\n",
        "   'catches': 88,\n",
        "   'targets': 145\n",
        "   },\n",
        "   {\n",
        "   'name': 'CeeDee Lamb',\n",
        "   'catches': 107,\n",
        "   'targets': 156\n",
        "   },\n",
        "   {\n",
        "   'name': 'Justin Jefferson',\n",
        "   'catches': 128,\n",
        "   'targets': 184\n",
        "   },\n",
        "]\n",
        "\n",
        "for player in players:\n",
        "    name = player[\"name\"]\n",
        "    catches = player[\"catches\"]\n",
        "    targets = player[\"targets\"]\n",
        "    catch_rate = catches/targets\n",
        "    print(name + ' has a catch rate of ' + str(catch_rate))"
      ]
    }
  ]
}
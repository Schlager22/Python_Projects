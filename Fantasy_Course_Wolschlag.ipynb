{
  "nbformat": 4,
  "nbformat_minor": 0,
  "metadata": {
    "colab": {
      "provenance": [],
      "authorship_tag": "ABX9TyNrkO2t/+jRDeC4slh1uZ8D",
      "include_colab_link": true
    },
    "kernelspec": {
      "name": "python3",
      "display_name": "Python 3"
    },
    "language_info": {
      "name": "python"
    }
  },
  "cells": [
    {
      "cell_type": "markdown",
      "metadata": {
        "id": "view-in-github",
        "colab_type": "text"
      },
      "source": [
        "<a href=\"https://colab.research.google.com/github/Schlager22/Python_Projects/blob/main/Fantasy_Course_Wolschlag.ipynb\" target=\"_parent\"><img src=\"https://colab.research.google.com/assets/colab-badge.svg\" alt=\"Open In Colab\"/></a>"
      ]
    },
    {
      "cell_type": "markdown",
      "source": [],
      "metadata": {
        "id": "mdi-T5pfRX_x"
      }
    },
    {
      "cell_type": "markdown",
      "source": [
        "# Fantasy Football Analytics\n",
        "\n",
        "Intro to Python"
      ],
      "metadata": {
        "id": "Hjt3f3sxRZhd"
      }
    },
    {
      "cell_type": "code",
      "execution_count": 8,
      "metadata": {
        "colab": {
          "base_uri": "https://localhost:8080/"
        },
        "id": "U2co9BDGALR2",
        "outputId": "9e686913-7299-4789-edb4-f7af36388dd0"
      },
      "outputs": [
        {
          "output_type": "execute_result",
          "data": {
            "text/plain": [
              "20"
            ]
          },
          "metadata": {},
          "execution_count": 8
        }
      ],
      "source": [
        "# Assign Variables\n",
        "rushing_yards = 20\n",
        "rushing_yards"
      ]
    },
    {
      "cell_type": "code",
      "source": [
        "# Strings\n",
        "rookie_rb_strategy = 'Target Rookie running backs with first round draft capital'\n",
        "\n",
        "rookie_rb_strategy"
      ],
      "metadata": {
        "colab": {
          "base_uri": "https://localhost:8080/",
          "height": 35
        },
        "id": "UGyAkV9nSisN",
        "outputId": "ecb687a8-af7f-4fee-f8bf-1b29c5986b6b"
      },
      "execution_count": 4,
      "outputs": [
        {
          "output_type": "execute_result",
          "data": {
            "text/plain": [
              "'Target Rookie running backs with first round draft capital'"
            ],
            "application/vnd.google.colaboratory.intrinsic+json": {
              "type": "string"
            }
          },
          "metadata": {},
          "execution_count": 4
        }
      ]
    },
    {
      "cell_type": "code",
      "source": [
        "# Concat Strings\n",
        "first_name = 'DeAndre'\n",
        "last_name = 'Hopkins'\n",
        "\n",
        "full_name = first_name + ' ' + last_name\n",
        "full_name"
      ],
      "metadata": {
        "colab": {
          "base_uri": "https://localhost:8080/",
          "height": 35
        },
        "id": "oto7cIMFUAok",
        "outputId": "9291f260-4ecb-4585-ca0f-8c9bbd78759b"
      },
      "execution_count": 6,
      "outputs": [
        {
          "output_type": "execute_result",
          "data": {
            "text/plain": [
              "'DeAndre Hopkins'"
            ],
            "application/vnd.google.colaboratory.intrinsic+json": {
              "type": "string"
            }
          },
          "metadata": {},
          "execution_count": 6
        }
      ]
    },
    {
      "cell_type": "code",
      "source": [
        "# Integers (Anything with decimal is a float)\n",
        "\n",
        "# PaYads through 3Q\n",
        "passing_yards = 350\n",
        "\n",
        "# Add 4th quarter yards\n",
        "passing_yards + 50"
      ],
      "metadata": {
        "colab": {
          "base_uri": "https://localhost:8080/"
        },
        "id": "LwXvkL5SUfFW",
        "outputId": "dcff430f-580f-401f-fa85-b891055ce43c"
      },
      "execution_count": 9,
      "outputs": [
        {
          "output_type": "execute_result",
          "data": {
            "text/plain": [
              "400"
            ]
          },
          "metadata": {},
          "execution_count": 9
        }
      ]
    },
    {
      "cell_type": "code",
      "source": [
        "# Lists (ordered and contain Python objects)\n",
        "\n",
        "most_single_game_ppr_pts = [59.5, 57.9, 57.4, 56.2]\n",
        "\n",
        "# Can have mixed types within list, although not recommended\n",
        "\n",
        "example_list = [1,2,3,4]\n",
        "most_single_game_ppr_pts[0]\n",
        "\n"
      ],
      "metadata": {
        "colab": {
          "base_uri": "https://localhost:8080/"
        },
        "id": "PzQLB__LVtpk",
        "outputId": "8454fec2-54cb-48ae-f1e8-05af330260f8"
      },
      "execution_count": 10,
      "outputs": [
        {
          "output_type": "execute_result",
          "data": {
            "text/plain": [
              "59.5"
            ]
          },
          "metadata": {},
          "execution_count": 10
        }
      ]
    },
    {
      "cell_type": "code",
      "source": [
        "# Dictionaries\n",
        "\n",
        "player = {\n",
        "    \"name\":\"A.J. Brown\",\n",
        "    \"catches\":145,\n",
        "    \"targets\":191\n",
        "}\n",
        "\n",
        "targets = player['targets']\n",
        "catches = player['catches']\n",
        "name = player['name']\n",
        "\n",
        "# Catch Rates\n",
        "catches/targets\n"
      ],
      "metadata": {
        "colab": {
          "base_uri": "https://localhost:8080/"
        },
        "id": "ViEtvLjTXM04",
        "outputId": "3602dfb8-c5cc-4dbb-80c5-368f6a076c6a"
      },
      "execution_count": 15,
      "outputs": [
        {
          "output_type": "execute_result",
          "data": {
            "text/plain": [
              "0.7591623036649214"
            ]
          },
          "metadata": {},
          "execution_count": 15
        }
      ]
    },
    {
      "cell_type": "code",
      "source": [
        "# Functions\n",
        "\n",
        "print('Hello World')\n",
        "\n",
        "# Move between data types\n",
        "recs = 100\n",
        "player_desc = \"CMC receptions this week: \"\n",
        "\n",
        "player_desc + str(recs)"
      ],
      "metadata": {
        "colab": {
          "base_uri": "https://localhost:8080/"
        },
        "id": "3m8vxl0sYBIo",
        "outputId": "6d36dd67-0dec-44ea-b71e-163897cf94d7"
      },
      "execution_count": 17,
      "outputs": [
        {
          "output_type": "stream",
          "name": "stdout",
          "text": [
            "Hello World\n",
            "4\n"
          ]
        }
      ]
    },
    {
      "cell_type": "code",
      "source": [
        "# Length of Lists\n",
        "len(most_single_game_ppr_pts)"
      ],
      "metadata": {
        "colab": {
          "base_uri": "https://localhost:8080/"
        },
        "id": "1I0iqW12Zgod",
        "outputId": "2501b542-7a63-42e0-9f12-a5e86b98d10d"
      },
      "execution_count": 19,
      "outputs": [
        {
          "output_type": "execute_result",
          "data": {
            "text/plain": [
              "4"
            ]
          },
          "metadata": {},
          "execution_count": 19
        }
      ]
    },
    {
      "cell_type": "code",
      "source": [
        "# For Loops\n",
        "pass_yd_totals_nfc_05 = [325, 321, 400, 180]\n",
        "for passing_yards_total in pass_yd_totals_nfc_05:\n",
        "  print(passing_yards_total/25)\n"
      ],
      "metadata": {
        "colab": {
          "base_uri": "https://localhost:8080/"
        },
        "id": "2VutCGJcZqqc",
        "outputId": "1ddfaac6-69db-4850-dead-efda4f46f6e9"
      },
      "execution_count": 20,
      "outputs": [
        {
          "output_type": "stream",
          "name": "stdout",
          "text": [
            "13.0\n",
            "12.84\n",
            "16.0\n",
            "7.2\n"
          ]
        }
      ]
    },
    {
      "cell_type": "code",
      "source": [],
      "metadata": {
        "id": "iXnkZvd5bWED"
      },
      "execution_count": null,
      "outputs": []
    }
  ]
}
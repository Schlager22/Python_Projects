{
 "cells": [
  {
   "cell_type": "code",
   "execution_count": 4,
   "id": "e2519701",
   "metadata": {},
   "outputs": [
    {
     "name": "stdout",
     "output_type": "stream",
     "text": [
      "[0, 1, 1, 2, 3, 5, 8, 13, 21, 34, 55, 89, 144, 233, 377, 610, 987, 1597, 2584, 4181, 6765]\n"
     ]
    }
   ],
   "source": [
    "fib_list = [0,1]\n",
    "\n",
    "for i in range(2,21):\n",
    "    i = fib_list[i-1] + fib_list[i-2]\n",
    "    fib_list.append(i)\n",
    "    i+=1\n",
    "    continue\n",
    "print(fib_list)\n"
   ]
  },
  {
   "cell_type": "code",
   "execution_count": 15,
   "id": "1ad37196",
   "metadata": {},
   "outputs": [],
   "source": [
    "# Make it recursive\n",
    "\n",
    "def fib(a = 0, b = 1, i = 0, n = 15):\n",
    "    if i == 0:\n",
    "        print(a)\n",
    "    print(b)\n",
    "    if i < n:\n",
    "        fib(a = b, b = a + b, i = i + 1, n = 7)\n",
    "    \n",
    "\n"
   ]
  },
  {
   "cell_type": "code",
   "execution_count": 16,
   "id": "747a857e",
   "metadata": {},
   "outputs": [
    {
     "name": "stdout",
     "output_type": "stream",
     "text": [
      "0\n",
      "1\n",
      "1\n",
      "2\n",
      "3\n",
      "5\n",
      "8\n",
      "13\n",
      "21\n"
     ]
    }
   ],
   "source": [
    "fib()"
   ]
  },
  {
   "cell_type": "code",
   "execution_count": null,
   "id": "0a449a5b",
   "metadata": {},
   "outputs": [],
   "source": []
  }
 ],
 "metadata": {
  "kernelspec": {
   "display_name": "Python 3 (ipykernel)",
   "language": "python",
   "name": "python3"
  },
  "language_info": {
   "codemirror_mode": {
    "name": "ipython",
    "version": 3
   },
   "file_extension": ".py",
   "mimetype": "text/x-python",
   "name": "python",
   "nbconvert_exporter": "python",
   "pygments_lexer": "ipython3",
   "version": "3.9.7"
  }
 },
 "nbformat": 4,
 "nbformat_minor": 5
}
